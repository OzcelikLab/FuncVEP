{
 "cells": [
  {
   "cell_type": "markdown",
   "metadata": {},
   "source": [
    "## Perform SHAP analysis and generate figures & tables"
   ]
  },
  {
   "cell_type": "markdown",
   "metadata": {},
   "source": [
    "#### Generate legends"
   ]
  },
  {
   "cell_type": "code",
   "execution_count": null,
   "metadata": {},
   "outputs": [
    {
     "name": "stdout",
     "output_type": "stream",
     "text": [
      "Legend saved to: ..\\results\\figures\\shap\\legend\\shap_legend_by_type.png\n"
     ]
    }
   ],
   "source": [
    "import matplotlib.pyplot as plt\n",
    "from matplotlib.patches import Patch\n",
    "from matplotlib import font_manager as fm\n",
    "import matplotlib as mpl\n",
    "from pathlib import Path\n",
    "\n",
    "font_path = \"../resources/fonts/Aptos.ttf\"\n",
    "fm.fontManager.addfont(font_path)\n",
    "prop = fm.FontProperties(fname=font_path)\n",
    "mpl.rcParams['font.family'] = prop.get_name()\n",
    "\n",
    "out_dir_legend = Path(\"../results/figures/shap/legend\")\n",
    "out_dir_legend.mkdir(parents=True, exist_ok=True)\n",
    "\n",
    "type_colors = {\n",
    "    \"Variant effect predictor\": \"#BD2424\",\n",
    "    \"Mutation-level\": \"#2ca02c\",\n",
    "    \"Gene-level\": \"#9467bd\",\n",
    "    \"Conservation score-based\": \"#1f77b4\",\n",
    "    \"Residue-level\": \"#c2d41e\"\n",
    "}\n",
    "\n",
    "legend_patches = [\n",
    "    Patch(facecolor=color, edgecolor=\"black\", linewidth=0.4, label=label)\n",
    "    for label, color in type_colors.items()\n",
    "]\n",
    "\n",
    "def save_shap_legend():\n",
    "    fig = plt.figure(figsize=(6, 0.3))\n",
    "    ax = fig.add_axes([0, 0, 1, 1])\n",
    "    ax.axis(\"off\")\n",
    "\n",
    "    ax.legend(handles=legend_patches,\n",
    "              loc=\"center\",\n",
    "              frameon=False,\n",
    "              ncol=len(type_colors),\n",
    "              fontsize=14,\n",
    "              prop=prop)\n",
    "\n",
    "    out_path = out_dir_legend / \"shap_legend_by_type.png\"\n",
    "    fig.savefig(out_path, dpi=300, bbox_inches=\"tight\", pad_inches=0)\n",
    "    plt.close(fig)\n",
    "    print(f\"Legend saved to: {out_path}\")\n",
    "\n",
    "save_shap_legend()\n"
   ]
  },
  {
   "cell_type": "markdown",
   "metadata": {},
   "source": [
    "#### Generate importance and summary plots"
   ]
  },
  {
   "cell_type": "code",
   "execution_count": null,
   "metadata": {},
   "outputs": [
    {
     "name": "stdout",
     "output_type": "stream",
     "text": [
      "Processing FuncVEP_CTI\n"
     ]
    },
    {
     "name": "stderr",
     "output_type": "stream",
     "text": [
      "c:\\Users\\hkere\\anaconda3\\envs\\conda_venv\\lib\\site-packages\\sklearn\\base.py:376: InconsistentVersionWarning: Trying to unpickle estimator LabelEncoder from version 1.6.1 when using version 1.5.2. This might lead to breaking code or invalid results. Use at your own risk. For more info please refer to:\n",
      "https://scikit-learn.org/stable/model_persistence.html#security-maintainability-limitations\n",
      "  warnings.warn(\n",
      "C:\\Users\\hkere\\AppData\\Local\\Temp\\ipykernel_17092\\2186171115.py:109: FutureWarning: Downcasting behavior in `replace` is deprecated and will be removed in a future version. To retain the old behavior, explicitly call `result.infer_objects(copy=False)`. To opt-in to the future behavior, set `pd.set_option('future.no_silent_downcasting', True)`\n",
      "  df[target_col] = df[target_col].replace({\"PS3\": 1, \"BS3\": 0})\n",
      "c:\\Users\\hkere\\anaconda3\\envs\\conda_venv\\lib\\site-packages\\shap\\explainers\\_tree.py:544: UserWarning: LightGBM binary classifier with TreeExplainer shap values output has changed to a list of ndarray\n",
      "  warnings.warn(\n"
     ]
    },
    {
     "name": "stdout",
     "output_type": "stream",
     "text": [
      "Processing FuncVEP_CTE\n"
     ]
    },
    {
     "name": "stderr",
     "output_type": "stream",
     "text": [
      "c:\\Users\\hkere\\anaconda3\\envs\\conda_venv\\lib\\site-packages\\sklearn\\base.py:376: InconsistentVersionWarning: Trying to unpickle estimator LabelEncoder from version 1.6.1 when using version 1.5.2. This might lead to breaking code or invalid results. Use at your own risk. For more info please refer to:\n",
      "https://scikit-learn.org/stable/model_persistence.html#security-maintainability-limitations\n",
      "  warnings.warn(\n",
      "C:\\Users\\hkere\\AppData\\Local\\Temp\\ipykernel_17092\\2186171115.py:109: FutureWarning: Downcasting behavior in `replace` is deprecated and will be removed in a future version. To retain the old behavior, explicitly call `result.infer_objects(copy=False)`. To opt-in to the future behavior, set `pd.set_option('future.no_silent_downcasting', True)`\n",
      "  df[target_col] = df[target_col].replace({\"PS3\": 1, \"BS3\": 0})\n",
      "c:\\Users\\hkere\\anaconda3\\envs\\conda_venv\\lib\\site-packages\\shap\\explainers\\_tree.py:544: UserWarning: LightGBM binary classifier with TreeExplainer shap values output has changed to a list of ndarray\n",
      "  warnings.warn(\n"
     ]
    },
    {
     "name": "stdout",
     "output_type": "stream",
     "text": [
      "Processing FuncVEP_SP\n"
     ]
    },
    {
     "name": "stderr",
     "output_type": "stream",
     "text": [
      "c:\\Users\\hkere\\anaconda3\\envs\\conda_venv\\lib\\site-packages\\sklearn\\base.py:376: InconsistentVersionWarning: Trying to unpickle estimator LabelEncoder from version 1.6.1 when using version 1.5.2. This might lead to breaking code or invalid results. Use at your own risk. For more info please refer to:\n",
      "https://scikit-learn.org/stable/model_persistence.html#security-maintainability-limitations\n",
      "  warnings.warn(\n",
      "C:\\Users\\hkere\\AppData\\Local\\Temp\\ipykernel_17092\\2186171115.py:109: FutureWarning: Downcasting behavior in `replace` is deprecated and will be removed in a future version. To retain the old behavior, explicitly call `result.infer_objects(copy=False)`. To opt-in to the future behavior, set `pd.set_option('future.no_silent_downcasting', True)`\n",
      "  df[target_col] = df[target_col].replace({\"PS3\": 1, \"BS3\": 0})\n",
      "c:\\Users\\hkere\\anaconda3\\envs\\conda_venv\\lib\\site-packages\\shap\\explainers\\_tree.py:544: UserWarning: LightGBM binary classifier with TreeExplainer shap values output has changed to a list of ndarray\n",
      "  warnings.warn(\n"
     ]
    },
    {
     "name": "stdout",
     "output_type": "stream",
     "text": [
      "Processing ClinVEP_CTI\n"
     ]
    },
    {
     "name": "stderr",
     "output_type": "stream",
     "text": [
      "c:\\Users\\hkere\\anaconda3\\envs\\conda_venv\\lib\\site-packages\\sklearn\\base.py:376: InconsistentVersionWarning: Trying to unpickle estimator LabelEncoder from version 1.6.1 when using version 1.5.2. This might lead to breaking code or invalid results. Use at your own risk. For more info please refer to:\n",
      "https://scikit-learn.org/stable/model_persistence.html#security-maintainability-limitations\n",
      "  warnings.warn(\n",
      "C:\\Users\\hkere\\AppData\\Local\\Temp\\ipykernel_17092\\2186171115.py:109: FutureWarning: Downcasting behavior in `replace` is deprecated and will be removed in a future version. To retain the old behavior, explicitly call `result.infer_objects(copy=False)`. To opt-in to the future behavior, set `pd.set_option('future.no_silent_downcasting', True)`\n",
      "  df[target_col] = df[target_col].replace({\"PS3\": 1, \"BS3\": 0})\n",
      "c:\\Users\\hkere\\anaconda3\\envs\\conda_venv\\lib\\site-packages\\shap\\explainers\\_tree.py:544: UserWarning: LightGBM binary classifier with TreeExplainer shap values output has changed to a list of ndarray\n",
      "  warnings.warn(\n"
     ]
    },
    {
     "name": "stdout",
     "output_type": "stream",
     "text": [
      "Processing ClinVEP_CTE\n"
     ]
    },
    {
     "name": "stderr",
     "output_type": "stream",
     "text": [
      "c:\\Users\\hkere\\anaconda3\\envs\\conda_venv\\lib\\site-packages\\sklearn\\base.py:376: InconsistentVersionWarning: Trying to unpickle estimator LabelEncoder from version 1.6.1 when using version 1.5.2. This might lead to breaking code or invalid results. Use at your own risk. For more info please refer to:\n",
      "https://scikit-learn.org/stable/model_persistence.html#security-maintainability-limitations\n",
      "  warnings.warn(\n",
      "C:\\Users\\hkere\\AppData\\Local\\Temp\\ipykernel_17092\\2186171115.py:109: FutureWarning: Downcasting behavior in `replace` is deprecated and will be removed in a future version. To retain the old behavior, explicitly call `result.infer_objects(copy=False)`. To opt-in to the future behavior, set `pd.set_option('future.no_silent_downcasting', True)`\n",
      "  df[target_col] = df[target_col].replace({\"PS3\": 1, \"BS3\": 0})\n",
      "c:\\Users\\hkere\\anaconda3\\envs\\conda_venv\\lib\\site-packages\\shap\\explainers\\_tree.py:544: UserWarning: LightGBM binary classifier with TreeExplainer shap values output has changed to a list of ndarray\n",
      "  warnings.warn(\n"
     ]
    },
    {
     "name": "stdout",
     "output_type": "stream",
     "text": [
      "Processing ClinVEP_SP\n"
     ]
    },
    {
     "name": "stderr",
     "output_type": "stream",
     "text": [
      "c:\\Users\\hkere\\anaconda3\\envs\\conda_venv\\lib\\site-packages\\sklearn\\base.py:376: InconsistentVersionWarning: Trying to unpickle estimator LabelEncoder from version 1.6.1 when using version 1.5.2. This might lead to breaking code or invalid results. Use at your own risk. For more info please refer to:\n",
      "https://scikit-learn.org/stable/model_persistence.html#security-maintainability-limitations\n",
      "  warnings.warn(\n",
      "C:\\Users\\hkere\\AppData\\Local\\Temp\\ipykernel_17092\\2186171115.py:109: FutureWarning: Downcasting behavior in `replace` is deprecated and will be removed in a future version. To retain the old behavior, explicitly call `result.infer_objects(copy=False)`. To opt-in to the future behavior, set `pd.set_option('future.no_silent_downcasting', True)`\n",
      "  df[target_col] = df[target_col].replace({\"PS3\": 1, \"BS3\": 0})\n",
      "c:\\Users\\hkere\\anaconda3\\envs\\conda_venv\\lib\\site-packages\\shap\\explainers\\_tree.py:544: UserWarning: LightGBM binary classifier with TreeExplainer shap values output has changed to a list of ndarray\n",
      "  warnings.warn(\n"
     ]
    },
    {
     "name": "stdout",
     "output_type": "stream",
     "text": [
      "All SHAP plots saved.\n"
     ]
    }
   ],
   "source": [
    "import pandas as pd\n",
    "import joblib\n",
    "import shap\n",
    "import matplotlib.pyplot as plt\n",
    "import numpy as np\n",
    "import os\n",
    "import re\n",
    "from pathlib import Path\n",
    "from matplotlib import font_manager as fm\n",
    "import matplotlib as mpl\n",
    "\n",
    "font_path = \"../resources/fonts/Aptos.ttf\"\n",
    "fm.fontManager.addfont(font_path)\n",
    "mpl.rcParams['font.family'] = fm.FontProperties(fname=font_path).get_name()\n",
    "\n",
    "FONT_SCALE_BAR = 0.9\n",
    "FONT_SCALE_SUM = 1.0\n",
    "\n",
    "# Importance plot font sizes\n",
    "TITLE_SIZE_BAR  = int(17 * FONT_SCALE_BAR)\n",
    "XLABEL_SIZE_BAR = int(14 * FONT_SCALE_BAR)\n",
    "XTICK_SIZE_BAR  = int(14 * FONT_SCALE_BAR)\n",
    "YTICK_SIZE_BAR  = int(12 * FONT_SCALE_BAR)\n",
    "\n",
    "# Summary plot font sizes\n",
    "TITLE_SIZE_SUM  = int(17 * FONT_SCALE_SUM)\n",
    "XLABEL_SIZE_SUM = int(14 * FONT_SCALE_SUM)\n",
    "XTICK_SIZE_SUM  = int(14 * FONT_SCALE_SUM)\n",
    "YTICK_SIZE_SUM  = int(12 * FONT_SCALE_SUM)\n",
    "\n",
    "TITLE_WEIGHT  = \"normal\"\n",
    "XLABEL_WEIGHT = \"normal\"\n",
    "TICK_WEIGHT   = \"normal\"\n",
    "\n",
    "models     = [\"FuncVEP_CTI\", \"FuncVEP_CTE\", \"FuncVEP_SP\",\n",
    "              \"ClinVEP_CTI\", \"ClinVEP_CTE\", \"ClinVEP_SP\"]\n",
    "data_path  = \"../data/final/functional_labels_model_input.txt\"\n",
    "meta_path  = \"../resources/feature_lists/all_columns.txt\"\n",
    "\n",
    "id_column   = \"ID\"\n",
    "target_col  = \"functional_label\"\n",
    "max_display = 20\n",
    "linewidth   = 0.4\n",
    "\n",
    "out_bar = Path(\"../results/figures/shap/importance\")\n",
    "out_sum = Path(\"../results/figures/shap/summary\")\n",
    "out_bar.mkdir(parents=True, exist_ok=True)\n",
    "out_sum.mkdir(parents=True, exist_ok=True)\n",
    "\n",
    "meta_df          = pd.read_csv(meta_path, sep=\"\\t\")\n",
    "feature_type_map = meta_df.set_index(\"Name\")[\"Type\"].to_dict()\n",
    "\n",
    "type_colors = {\n",
    "    \"Variant Effect Predictor\": \"#BD2424\",\n",
    "    \"Mutation-Level\":            \"#2ca02c\",\n",
    "    \"Gene-Level\":                \"#9467bd\",\n",
    "    \"Conservation Score-Based\":  \"#1f77b4\",\n",
    "    \"Residue-Level\":             \"#c2d41e\"\n",
    "}\n",
    "\n",
    "def clean_feature_name(feat: str) -> str:\n",
    "    feat = re.sub(r\"^glm_\", \"\", feat)\n",
    "    feat = re.sub(r\"_score$\", \"\", feat)\n",
    "    return feat.replace(\"___\", \"-\").replace(\"__\", \"-\").replace(\"_\", \"-\")\n",
    "\n",
    "def filter_features(df: pd.DataFrame, model_name: str) -> pd.DataFrame:\n",
    "    with open(\"../resources/feature_lists/tools_excluded_due_to_unavailable_training_sets.txt\") as f:\n",
    "        df = df.drop(columns=[ln.strip() for ln in f], errors=\"ignore\")\n",
    "    if model_name in [\"FuncVEP_CTE\", \"ClinVEP_CTE\"]:\n",
    "        with open(\"../resources/feature_lists/clinical_trained_tools.txt\") as f:\n",
    "            df = df.drop(columns=[ln.strip() for ln in f], errors=\"ignore\")\n",
    "    if model_name in [\"FuncVEP_SP\", \"ClinVEP_SP\"]:\n",
    "        with open(\"../resources/feature_lists/all_tools.txt\") as f:\n",
    "            df = df.drop(columns=[ln.strip() for ln in f], errors=\"ignore\")\n",
    "    return df\n",
    "\n",
    "for model_name in models:\n",
    "    print(f\"Processing {model_name}\")\n",
    "    model_dir = f\"../models/{model_name}\"\n",
    "    model     = joblib.load(os.path.join(model_dir, \"model.pkl\"))\n",
    "\n",
    "    train_ids = pd.read_csv(os.path.join(model_dir, \"training_variants.txt\"),\n",
    "                            sep=\"\\t\")[\"ID\"].tolist()\n",
    "    trained_features = model.feature_name_\n",
    "\n",
    "    df = pd.read_csv(data_path, sep=\"\\t\")\n",
    "    df.columns = df.columns.str.replace(\" \", \"_\")\n",
    "    df = filter_features(df, model_name)\n",
    "    df = df[~df[id_column].isin(train_ids)]\n",
    "    df[target_col] = df[target_col].replace({\"PS3\": 1, \"BS3\": 0})\n",
    "    df = df[df[\"weight\"] == 1]\n",
    "\n",
    "    num_cols = df.columns.difference([id_column, target_col, \"weight\"])\n",
    "    df[num_cols] = df[num_cols].apply(pd.to_numeric, errors=\"coerce\")\n",
    "    df = df.dropna(subset=[target_col])\n",
    "\n",
    "    X = df[trained_features].copy()\n",
    "\n",
    "    explainer     = shap.TreeExplainer(model)\n",
    "    shap_vals_raw = explainer.shap_values(X)\n",
    "    shap_vals     = shap_vals_raw[1] if isinstance(shap_vals_raw, list) and len(shap_vals_raw) == 2 else shap_vals_raw\n",
    "\n",
    "    shap_means   = np.abs(shap_vals).mean(axis=0)\n",
    "    top_idx      = np.argsort(shap_means)[::-1][:max_display]\n",
    "    top_feats    = X.columns[top_idx]\n",
    "    top_import   = shap_means[top_idx]\n",
    "    top_colors   = [type_colors.get(feature_type_map.get(f, \"Other\"), \"#7f7f7f\") for f in top_feats]\n",
    "    top_labels   = [clean_feature_name(f) for f in top_feats]\n",
    "\n",
    "    fig, ax = plt.subplots(figsize=(7, 5))\n",
    "    ax.barh(range(max_display)[::-1], top_import,\n",
    "            color=top_colors, edgecolor=\"black\", linewidth=linewidth)\n",
    "    ax.set_yticks(range(max_display)[::-1])\n",
    "    ax.set_yticklabels(top_labels, fontsize=YTICK_SIZE_BAR, fontweight=TICK_WEIGHT)\n",
    "    ax.set_xlabel(\"Mean |SHAP value|\", fontsize=XLABEL_SIZE_BAR, fontweight=XLABEL_WEIGHT)\n",
    "    ax.set_title(model_name.replace(\"_\", \"-\"),\n",
    "                 fontsize=TITLE_SIZE_BAR, fontweight=TITLE_WEIGHT, pad=15)\n",
    "    ax.tick_params(axis=\"x\", labelsize=XTICK_SIZE_BAR)\n",
    "    plt.tight_layout()\n",
    "    plt.savefig(out_bar / f\"shap_bar_{model_name}.png\", dpi=300, bbox_inches=\"tight\")\n",
    "    plt.close()\n",
    "\n",
    "    shap.summary_plot(shap_vals, X, max_display=max_display, show=False)\n",
    "    fig = plt.gcf()\n",
    "    if fig._suptitle is not None:\n",
    "        fig._suptitle.set_text(\"\")\n",
    "    fig.suptitle(model_name.replace(\"_\", \"-\"),\n",
    "                 fontsize=TITLE_SIZE_SUM, fontweight=TITLE_WEIGHT, y=0.98)\n",
    "\n",
    "    ax_sum = fig.axes[0]\n",
    "    ax_sum.tick_params(axis=\"x\", labelsize=XTICK_SIZE_SUM)\n",
    "    ax_sum.tick_params(axis=\"y\", labelsize=YTICK_SIZE_SUM)\n",
    "\n",
    "    plt.tight_layout(rect=[0, 0, 1, 0.97])\n",
    "    plt.savefig(out_sum / f\"shap_summary_{model_name}.png\", dpi=600, bbox_inches=\"tight\")\n",
    "    plt.close()\n",
    "\n",
    "print(\"All SHAP plots saved.\")\n"
   ]
  },
  {
   "cell_type": "markdown",
   "metadata": {},
   "source": [
    "#### Combine importance plots"
   ]
  },
  {
   "cell_type": "code",
   "execution_count": null,
   "metadata": {},
   "outputs": [
    {
     "name": "stdout",
     "output_type": "stream",
     "text": [
      "saved → shap\\importance\\shap_bar_combined.png\n"
     ]
    }
   ],
   "source": [
    "import matplotlib.pyplot as plt\n",
    "import matplotlib.image as mpimg\n",
    "import matplotlib.gridspec as gridspec\n",
    "from pathlib import Path\n",
    "import string\n",
    "import math\n",
    "\n",
    "models = [\"FuncVEP_CTI\", \"FuncVEP_CTE\", \"FuncVEP_SP\", \"ClinVEP_CTI\", \"ClinVEP_CTE\", \"ClinVEP_SP\"]\n",
    "fig_dir_imp = Path(\"../results/figures/shap/importance\")\n",
    "fig_dir_sum = Path(\"../results/figures/shap/summary\")\n",
    "legend_path = Path(\"../results/figures/shap/legend/shap_legend_by_type.png\")\n",
    "\n",
    "out_imp = fig_dir_imp / \"shap_bar_combined.png\"\n",
    "out_sum = fig_dir_sum / \"shap_summary_combined.png\"\n",
    "\n",
    "func_models = [\"FuncVEP_CTI\", \"FuncVEP_CTE\", \"FuncVEP_SP\"]\n",
    "clin_models = [\"ClinVEP_CTI\", \"ClinVEP_CTE\", \"ClinVEP_SP\"]\n",
    "\n",
    "imp_paths = []\n",
    "for f, c in zip(func_models, clin_models):\n",
    "    imp_paths.append(fig_dir_imp / f\"shap_bar_{f}.png\")\n",
    "    imp_paths.append(fig_dir_imp / f\"shap_bar_{c}.png\")\n",
    "\n",
    "def build_grid_two_columns(img_paths, out_path, include_legend=False, legend_img=None,\n",
    "                           wspace=0.2, hspace=0.2, figsize_override=None):\n",
    "    if include_legend and legend_img is None:\n",
    "        raise ValueError(\"legend_img path must be provided when include_legend=True\")\n",
    "\n",
    "    n = len(img_paths)\n",
    "    cols = 2\n",
    "    rows = math.ceil(n / cols)\n",
    "    height_ratios = [1] * rows\n",
    "\n",
    "    if include_legend:\n",
    "        rows += 1\n",
    "        height_ratios.append(0.18)\n",
    "\n",
    "    gs = gridspec.GridSpec(rows, cols, height_ratios=height_ratios)\n",
    "\n",
    "    if figsize_override is None:\n",
    "        fig = plt.figure(figsize=(cols * 7, rows * 4))\n",
    "    else:\n",
    "        fig = plt.figure(figsize=figsize_override)\n",
    "\n",
    "    for idx, img_path in enumerate(img_paths):\n",
    "        row = idx // cols\n",
    "        col = idx % cols\n",
    "        ax = fig.add_subplot(gs[row, col])\n",
    "        img = mpimg.imread(img_path)\n",
    "        ax.imshow(img, aspect='auto')\n",
    "        ax.axis(\"off\")\n",
    "\n",
    "        ax.text(\n",
    "            0.01,\n",
    "            0.97,\n",
    "            f\"{string.ascii_uppercase[idx]}\",\n",
    "            transform=ax.transAxes,\n",
    "            fontsize=14,\n",
    "            fontweight=\"bold\",\n",
    "            va=\"top\",\n",
    "            ha=\"left\",\n",
    "        )\n",
    "\n",
    "    if include_legend:\n",
    "        legend_ax = fig.add_subplot(gs[-1, :])\n",
    "        legend_ax.axis(\"off\")\n",
    "        legend_img_data = mpimg.imread(legend_img)\n",
    "        legend_ax.imshow(legend_img_data)\n",
    "        legend_ax.set_anchor(\"N\")\n",
    "\n",
    "    plt.subplots_adjust(left=0.05, right=0.95, top=0.95, bottom=0.05, wspace=wspace, hspace=hspace)\n",
    "    plt.tight_layout()\n",
    "    fig.savefig(out_path, dpi=300, bbox_inches=\"tight\")\n",
    "    plt.close(fig)\n",
    "    print(f\"saved → {out_path.relative_to(out_path.parents[2])}\")\n",
    "\n",
    "build_grid_two_columns(\n",
    "    imp_paths,\n",
    "    out_imp,\n",
    "    include_legend=True,\n",
    "    legend_img=legend_path,\n",
    "    wspace=0.2,\n",
    "    hspace=0.2,\n",
    ")"
   ]
  },
  {
   "cell_type": "markdown",
   "metadata": {},
   "source": [
    "#### Combine summary plots"
   ]
  },
  {
   "cell_type": "code",
   "execution_count": null,
   "metadata": {},
   "outputs": [
    {
     "name": "stdout",
     "output_type": "stream",
     "text": [
      "Collecting SHAP importances: FuncVEP_CTI\n"
     ]
    },
    {
     "name": "stderr",
     "output_type": "stream",
     "text": [
      "c:\\Users\\hkere\\anaconda3\\envs\\conda_venv\\lib\\site-packages\\sklearn\\base.py:376: InconsistentVersionWarning: Trying to unpickle estimator LabelEncoder from version 1.6.1 when using version 1.5.2. This might lead to breaking code or invalid results. Use at your own risk. For more info please refer to:\n",
      "https://scikit-learn.org/stable/model_persistence.html#security-maintainability-limitations\n",
      "  warnings.warn(\n",
      "C:\\Users\\hkere\\AppData\\Local\\Temp\\ipykernel_17092\\4004472756.py:21: FutureWarning: Downcasting behavior in `replace` is deprecated and will be removed in a future version. To retain the old behavior, explicitly call `result.infer_objects(copy=False)`. To opt-in to the future behavior, set `pd.set_option('future.no_silent_downcasting', True)`\n",
      "  df[target_column] = df[target_column].replace({\"PS3\": 1, \"BS3\": 0})\n",
      "c:\\Users\\hkere\\anaconda3\\envs\\conda_venv\\lib\\site-packages\\shap\\explainers\\_tree.py:544: UserWarning: LightGBM binary classifier with TreeExplainer shap values output has changed to a list of ndarray\n",
      "  warnings.warn(\n",
      "c:\\Users\\hkere\\anaconda3\\envs\\conda_venv\\lib\\site-packages\\sklearn\\base.py:376: InconsistentVersionWarning: Trying to unpickle estimator LabelEncoder from version 1.6.1 when using version 1.5.2. This might lead to breaking code or invalid results. Use at your own risk. For more info please refer to:\n",
      "https://scikit-learn.org/stable/model_persistence.html#security-maintainability-limitations\n",
      "  warnings.warn(\n"
     ]
    },
    {
     "name": "stdout",
     "output_type": "stream",
     "text": [
      "Collecting SHAP importances: FuncVEP_CTE\n"
     ]
    },
    {
     "name": "stderr",
     "output_type": "stream",
     "text": [
      "C:\\Users\\hkere\\AppData\\Local\\Temp\\ipykernel_17092\\4004472756.py:21: FutureWarning: Downcasting behavior in `replace` is deprecated and will be removed in a future version. To retain the old behavior, explicitly call `result.infer_objects(copy=False)`. To opt-in to the future behavior, set `pd.set_option('future.no_silent_downcasting', True)`\n",
      "  df[target_column] = df[target_column].replace({\"PS3\": 1, \"BS3\": 0})\n",
      "c:\\Users\\hkere\\anaconda3\\envs\\conda_venv\\lib\\site-packages\\shap\\explainers\\_tree.py:544: UserWarning: LightGBM binary classifier with TreeExplainer shap values output has changed to a list of ndarray\n",
      "  warnings.warn(\n",
      "c:\\Users\\hkere\\anaconda3\\envs\\conda_venv\\lib\\site-packages\\sklearn\\base.py:376: InconsistentVersionWarning: Trying to unpickle estimator LabelEncoder from version 1.6.1 when using version 1.5.2. This might lead to breaking code or invalid results. Use at your own risk. For more info please refer to:\n",
      "https://scikit-learn.org/stable/model_persistence.html#security-maintainability-limitations\n",
      "  warnings.warn(\n"
     ]
    },
    {
     "name": "stdout",
     "output_type": "stream",
     "text": [
      "Collecting SHAP importances: FuncVEP_SP\n"
     ]
    },
    {
     "name": "stderr",
     "output_type": "stream",
     "text": [
      "C:\\Users\\hkere\\AppData\\Local\\Temp\\ipykernel_17092\\4004472756.py:21: FutureWarning: Downcasting behavior in `replace` is deprecated and will be removed in a future version. To retain the old behavior, explicitly call `result.infer_objects(copy=False)`. To opt-in to the future behavior, set `pd.set_option('future.no_silent_downcasting', True)`\n",
      "  df[target_column] = df[target_column].replace({\"PS3\": 1, \"BS3\": 0})\n",
      "c:\\Users\\hkere\\anaconda3\\envs\\conda_venv\\lib\\site-packages\\shap\\explainers\\_tree.py:544: UserWarning: LightGBM binary classifier with TreeExplainer shap values output has changed to a list of ndarray\n",
      "  warnings.warn(\n",
      "c:\\Users\\hkere\\anaconda3\\envs\\conda_venv\\lib\\site-packages\\sklearn\\base.py:376: InconsistentVersionWarning: Trying to unpickle estimator LabelEncoder from version 1.6.1 when using version 1.5.2. This might lead to breaking code or invalid results. Use at your own risk. For more info please refer to:\n",
      "https://scikit-learn.org/stable/model_persistence.html#security-maintainability-limitations\n",
      "  warnings.warn(\n"
     ]
    },
    {
     "name": "stdout",
     "output_type": "stream",
     "text": [
      "Collecting SHAP importances: ClinVEP_CTI\n"
     ]
    },
    {
     "name": "stderr",
     "output_type": "stream",
     "text": [
      "C:\\Users\\hkere\\AppData\\Local\\Temp\\ipykernel_17092\\4004472756.py:21: FutureWarning: Downcasting behavior in `replace` is deprecated and will be removed in a future version. To retain the old behavior, explicitly call `result.infer_objects(copy=False)`. To opt-in to the future behavior, set `pd.set_option('future.no_silent_downcasting', True)`\n",
      "  df[target_column] = df[target_column].replace({\"PS3\": 1, \"BS3\": 0})\n",
      "c:\\Users\\hkere\\anaconda3\\envs\\conda_venv\\lib\\site-packages\\shap\\explainers\\_tree.py:544: UserWarning: LightGBM binary classifier with TreeExplainer shap values output has changed to a list of ndarray\n",
      "  warnings.warn(\n",
      "c:\\Users\\hkere\\anaconda3\\envs\\conda_venv\\lib\\site-packages\\sklearn\\base.py:376: InconsistentVersionWarning: Trying to unpickle estimator LabelEncoder from version 1.6.1 when using version 1.5.2. This might lead to breaking code or invalid results. Use at your own risk. For more info please refer to:\n",
      "https://scikit-learn.org/stable/model_persistence.html#security-maintainability-limitations\n",
      "  warnings.warn(\n"
     ]
    },
    {
     "name": "stdout",
     "output_type": "stream",
     "text": [
      "Collecting SHAP importances: ClinVEP_CTE\n"
     ]
    },
    {
     "name": "stderr",
     "output_type": "stream",
     "text": [
      "C:\\Users\\hkere\\AppData\\Local\\Temp\\ipykernel_17092\\4004472756.py:21: FutureWarning: Downcasting behavior in `replace` is deprecated and will be removed in a future version. To retain the old behavior, explicitly call `result.infer_objects(copy=False)`. To opt-in to the future behavior, set `pd.set_option('future.no_silent_downcasting', True)`\n",
      "  df[target_column] = df[target_column].replace({\"PS3\": 1, \"BS3\": 0})\n",
      "c:\\Users\\hkere\\anaconda3\\envs\\conda_venv\\lib\\site-packages\\shap\\explainers\\_tree.py:544: UserWarning: LightGBM binary classifier with TreeExplainer shap values output has changed to a list of ndarray\n",
      "  warnings.warn(\n",
      "c:\\Users\\hkere\\anaconda3\\envs\\conda_venv\\lib\\site-packages\\sklearn\\base.py:376: InconsistentVersionWarning: Trying to unpickle estimator LabelEncoder from version 1.6.1 when using version 1.5.2. This might lead to breaking code or invalid results. Use at your own risk. For more info please refer to:\n",
      "https://scikit-learn.org/stable/model_persistence.html#security-maintainability-limitations\n",
      "  warnings.warn(\n"
     ]
    },
    {
     "name": "stdout",
     "output_type": "stream",
     "text": [
      "Collecting SHAP importances: ClinVEP_SP\n"
     ]
    },
    {
     "name": "stderr",
     "output_type": "stream",
     "text": [
      "C:\\Users\\hkere\\AppData\\Local\\Temp\\ipykernel_17092\\4004472756.py:21: FutureWarning: Downcasting behavior in `replace` is deprecated and will be removed in a future version. To retain the old behavior, explicitly call `result.infer_objects(copy=False)`. To opt-in to the future behavior, set `pd.set_option('future.no_silent_downcasting', True)`\n",
      "  df[target_column] = df[target_column].replace({\"PS3\": 1, \"BS3\": 0})\n",
      "c:\\Users\\hkere\\anaconda3\\envs\\conda_venv\\lib\\site-packages\\shap\\explainers\\_tree.py:544: UserWarning: LightGBM binary classifier with TreeExplainer shap values output has changed to a list of ndarray\n",
      "  warnings.warn(\n"
     ]
    }
   ],
   "source": [
    "import pandas as pd\n",
    "import numpy as np\n",
    "\n",
    "importance_dict = {}\n",
    "\n",
    "for model_name in models:\n",
    "    print(f\"Collecting SHAP importances: {model_name}\")\n",
    "    \n",
    "    model_dir = f\"../models/{model_name}\"\n",
    "    model = joblib.load(os.path.join(model_dir, \"model.pkl\"))\n",
    "\n",
    "    train_ids = pd.read_csv(os.path.join(model_dir, \"training_variants.txt\"), sep=\"\\t\")[\"ID\"].tolist()\n",
    "    trained_features = model.feature_name_\n",
    "\n",
    "    df = pd.read_csv(data_path, sep=\"\\t\")\n",
    "    df.columns = df.columns.str.replace(\" \", \"_\")\n",
    "    df = filter_features(df, model_name)\n",
    "    df = df[~df[id_column].isin(train_ids)]\n",
    "    df[target_column] = df[target_column].replace({\"PS3\": 1, \"BS3\": 0})\n",
    "\n",
    "    numeric_cols = df.columns.difference([id_column, target_column, \"weight\"])\n",
    "    df[numeric_cols] = df[numeric_cols].apply(pd.to_numeric, errors=\"coerce\")\n",
    "    df = df.dropna(subset=[target_column])\n",
    "\n",
    "    X = df[trained_features].copy()\n",
    "\n",
    "    explainer = shap.TreeExplainer(model)\n",
    "    shap_vals_full = explainer.shap_values(X)\n",
    "    shap_vals = shap_vals_full[1] if isinstance(shap_vals_full, list) and len(shap_vals_full) == 2 else shap_vals_full\n",
    "\n",
    "    shap_means = np.abs(shap_vals).mean(axis=0)\n",
    "\n",
    "    importance_series = pd.Series(shap_means, index=X.columns, name=model_name)\n",
    "\n",
    "    importance_dict[model_name] = importance_series\n",
    "\n",
    "importance_df = pd.DataFrame(importance_dict).reset_index()\n",
    "importance_df.rename(columns={\"index\": \"Feature\"}, inplace=True)\n",
    "\n",
    "importance_df.to_csv(\"../results/tables/shap/all_models_shap_importances.txt\", sep=\"\\t\", index=False)\n"
   ]
  },
  {
   "cell_type": "markdown",
   "metadata": {},
   "source": [
    "#### Generate importance tables"
   ]
  },
  {
   "cell_type": "code",
   "execution_count": null,
   "metadata": {},
   "outputs": [
    {
     "name": "stdout",
     "output_type": "stream",
     "text": [
      "Processing model: FuncVEP_CTI\n"
     ]
    },
    {
     "name": "stderr",
     "output_type": "stream",
     "text": [
      "c:\\Users\\hkere\\anaconda3\\envs\\conda_venv\\lib\\site-packages\\sklearn\\base.py:376: InconsistentVersionWarning: Trying to unpickle estimator LabelEncoder from version 1.6.1 when using version 1.5.2. This might lead to breaking code or invalid results. Use at your own risk. For more info please refer to:\n",
      "https://scikit-learn.org/stable/model_persistence.html#security-maintainability-limitations\n",
      "  warnings.warn(\n",
      "C:\\Users\\hkere\\AppData\\Local\\Temp\\ipykernel_17092\\174836697.py:28: FutureWarning: Downcasting behavior in `replace` is deprecated and will be removed in a future version. To retain the old behavior, explicitly call `result.infer_objects(copy=False)`. To opt-in to the future behavior, set `pd.set_option('future.no_silent_downcasting', True)`\n",
      "  df[target_column] = df[target_column].replace({\"PS3\": 1, \"BS3\": 0})\n",
      "c:\\Users\\hkere\\anaconda3\\envs\\conda_venv\\lib\\site-packages\\shap\\explainers\\_tree.py:544: UserWarning: LightGBM binary classifier with TreeExplainer shap values output has changed to a list of ndarray\n",
      "  warnings.warn(\n",
      "c:\\Users\\hkere\\anaconda3\\envs\\conda_venv\\lib\\site-packages\\sklearn\\base.py:376: InconsistentVersionWarning: Trying to unpickle estimator LabelEncoder from version 1.6.1 when using version 1.5.2. This might lead to breaking code or invalid results. Use at your own risk. For more info please refer to:\n",
      "https://scikit-learn.org/stable/model_persistence.html#security-maintainability-limitations\n",
      "  warnings.warn(\n"
     ]
    },
    {
     "name": "stdout",
     "output_type": "stream",
     "text": [
      "Processing model: ClinVEP_CTI\n"
     ]
    },
    {
     "name": "stderr",
     "output_type": "stream",
     "text": [
      "C:\\Users\\hkere\\AppData\\Local\\Temp\\ipykernel_17092\\174836697.py:28: FutureWarning: Downcasting behavior in `replace` is deprecated and will be removed in a future version. To retain the old behavior, explicitly call `result.infer_objects(copy=False)`. To opt-in to the future behavior, set `pd.set_option('future.no_silent_downcasting', True)`\n",
      "  df[target_column] = df[target_column].replace({\"PS3\": 1, \"BS3\": 0})\n",
      "c:\\Users\\hkere\\anaconda3\\envs\\conda_venv\\lib\\site-packages\\shap\\explainers\\_tree.py:544: UserWarning: LightGBM binary classifier with TreeExplainer shap values output has changed to a list of ndarray\n",
      "  warnings.warn(\n",
      "c:\\Users\\hkere\\anaconda3\\envs\\conda_venv\\lib\\site-packages\\sklearn\\base.py:376: InconsistentVersionWarning: Trying to unpickle estimator LabelEncoder from version 1.6.1 when using version 1.5.2. This might lead to breaking code or invalid results. Use at your own risk. For more info please refer to:\n",
      "https://scikit-learn.org/stable/model_persistence.html#security-maintainability-limitations\n",
      "  warnings.warn(\n"
     ]
    },
    {
     "name": "stdout",
     "output_type": "stream",
     "text": [
      "Processing model: FuncVEP_CTE\n"
     ]
    },
    {
     "name": "stderr",
     "output_type": "stream",
     "text": [
      "C:\\Users\\hkere\\AppData\\Local\\Temp\\ipykernel_17092\\174836697.py:28: FutureWarning: Downcasting behavior in `replace` is deprecated and will be removed in a future version. To retain the old behavior, explicitly call `result.infer_objects(copy=False)`. To opt-in to the future behavior, set `pd.set_option('future.no_silent_downcasting', True)`\n",
      "  df[target_column] = df[target_column].replace({\"PS3\": 1, \"BS3\": 0})\n",
      "c:\\Users\\hkere\\anaconda3\\envs\\conda_venv\\lib\\site-packages\\shap\\explainers\\_tree.py:544: UserWarning: LightGBM binary classifier with TreeExplainer shap values output has changed to a list of ndarray\n",
      "  warnings.warn(\n",
      "c:\\Users\\hkere\\anaconda3\\envs\\conda_venv\\lib\\site-packages\\sklearn\\base.py:376: InconsistentVersionWarning: Trying to unpickle estimator LabelEncoder from version 1.6.1 when using version 1.5.2. This might lead to breaking code or invalid results. Use at your own risk. For more info please refer to:\n",
      "https://scikit-learn.org/stable/model_persistence.html#security-maintainability-limitations\n",
      "  warnings.warn(\n"
     ]
    },
    {
     "name": "stdout",
     "output_type": "stream",
     "text": [
      "Processing model: ClinVEP_CTE\n"
     ]
    },
    {
     "name": "stderr",
     "output_type": "stream",
     "text": [
      "C:\\Users\\hkere\\AppData\\Local\\Temp\\ipykernel_17092\\174836697.py:28: FutureWarning: Downcasting behavior in `replace` is deprecated and will be removed in a future version. To retain the old behavior, explicitly call `result.infer_objects(copy=False)`. To opt-in to the future behavior, set `pd.set_option('future.no_silent_downcasting', True)`\n",
      "  df[target_column] = df[target_column].replace({\"PS3\": 1, \"BS3\": 0})\n",
      "c:\\Users\\hkere\\anaconda3\\envs\\conda_venv\\lib\\site-packages\\shap\\explainers\\_tree.py:544: UserWarning: LightGBM binary classifier with TreeExplainer shap values output has changed to a list of ndarray\n",
      "  warnings.warn(\n",
      "c:\\Users\\hkere\\anaconda3\\envs\\conda_venv\\lib\\site-packages\\sklearn\\base.py:376: InconsistentVersionWarning: Trying to unpickle estimator LabelEncoder from version 1.6.1 when using version 1.5.2. This might lead to breaking code or invalid results. Use at your own risk. For more info please refer to:\n",
      "https://scikit-learn.org/stable/model_persistence.html#security-maintainability-limitations\n",
      "  warnings.warn(\n"
     ]
    },
    {
     "name": "stdout",
     "output_type": "stream",
     "text": [
      "Processing model: FuncVEP_SP\n"
     ]
    },
    {
     "name": "stderr",
     "output_type": "stream",
     "text": [
      "C:\\Users\\hkere\\AppData\\Local\\Temp\\ipykernel_17092\\174836697.py:28: FutureWarning: Downcasting behavior in `replace` is deprecated and will be removed in a future version. To retain the old behavior, explicitly call `result.infer_objects(copy=False)`. To opt-in to the future behavior, set `pd.set_option('future.no_silent_downcasting', True)`\n",
      "  df[target_column] = df[target_column].replace({\"PS3\": 1, \"BS3\": 0})\n",
      "c:\\Users\\hkere\\anaconda3\\envs\\conda_venv\\lib\\site-packages\\shap\\explainers\\_tree.py:544: UserWarning: LightGBM binary classifier with TreeExplainer shap values output has changed to a list of ndarray\n",
      "  warnings.warn(\n",
      "c:\\Users\\hkere\\anaconda3\\envs\\conda_venv\\lib\\site-packages\\sklearn\\base.py:376: InconsistentVersionWarning: Trying to unpickle estimator LabelEncoder from version 1.6.1 when using version 1.5.2. This might lead to breaking code or invalid results. Use at your own risk. For more info please refer to:\n",
      "https://scikit-learn.org/stable/model_persistence.html#security-maintainability-limitations\n",
      "  warnings.warn(\n"
     ]
    },
    {
     "name": "stdout",
     "output_type": "stream",
     "text": [
      "Processing model: ClinVEP_SP\n"
     ]
    },
    {
     "name": "stderr",
     "output_type": "stream",
     "text": [
      "C:\\Users\\hkere\\AppData\\Local\\Temp\\ipykernel_17092\\174836697.py:28: FutureWarning: Downcasting behavior in `replace` is deprecated and will be removed in a future version. To retain the old behavior, explicitly call `result.infer_objects(copy=False)`. To opt-in to the future behavior, set `pd.set_option('future.no_silent_downcasting', True)`\n",
      "  df[target_column] = df[target_column].replace({\"PS3\": 1, \"BS3\": 0})\n"
     ]
    },
    {
     "name": "stdout",
     "output_type": "stream",
     "text": [
      "SHAP total and average importance by feature type saved.\n",
      "Normalized SHAP importance values saved.\n"
     ]
    },
    {
     "name": "stderr",
     "output_type": "stream",
     "text": [
      "c:\\Users\\hkere\\anaconda3\\envs\\conda_venv\\lib\\site-packages\\shap\\explainers\\_tree.py:544: UserWarning: LightGBM binary classifier with TreeExplainer shap values output has changed to a list of ndarray\n",
      "  warnings.warn(\n"
     ]
    }
   ],
   "source": [
    "import pandas as pd\n",
    "import numpy as np\n",
    "\n",
    "models = [\"FuncVEP_CTI\", \"ClinVEP_CTI\", \"FuncVEP_CTE\", \"ClinVEP_CTE\", \"FuncVEP_SP\", \"ClinVEP_SP\"]\n",
    "meta_df = pd.read_csv(\"../resources/feature_lists/all_columns.txt\", sep=\"\\t\")\n",
    "feature_type_map = meta_df.set_index(\"Name\")[\"Category\"].to_dict()\n",
    "unique_types = sorted(meta_df[\"Category\"].dropna().unique())\n",
    "unique_types.remove(\"Functional-Trained\")\n",
    "\n",
    "summary_by_type = {}\n",
    "\n",
    "for model_name in models:\n",
    "    print(f\"Processing model: {model_name}\")\n",
    "    \n",
    "    model_dir = f\"../models/{model_name}\"\n",
    "    model = joblib.load(os.path.join(model_dir, \"model.pkl\"))\n",
    "\n",
    "    train_ids = pd.read_csv(os.path.join(model_dir, \"training_variants.txt\"), sep=\"\\t\")[\"ID\"].tolist()\n",
    "    df = pd.read_csv(data_path, sep=\"\\t\")\n",
    "    df.columns = df.columns.str.replace(\" \", \"_\")\n",
    "    df = filter_features(df, model_name)\n",
    "    df = df[~df[id_column].isin(train_ids)]\n",
    "    df[target_column] = df[target_column].replace({\"PS3\": 1, \"BS3\": 0})\n",
    "    df = df[df[\"weight\"] == 1]\n",
    "\n",
    "    numeric_cols = df.columns.difference([id_column, target_column, \"weight\"])\n",
    "    df[numeric_cols] = df[numeric_cols].apply(pd.to_numeric, errors=\"coerce\")\n",
    "    df = df.dropna(subset=[target_column])\n",
    "    \n",
    "    trained_features = model.feature_name_\n",
    "    X = df[trained_features].copy()\n",
    "\n",
    "    explainer = shap.TreeExplainer(model)\n",
    "    shap_vals_full = explainer.shap_values(X)\n",
    "    shap_vals = shap_vals_full[1] if isinstance(shap_vals_full, list) and len(shap_vals_full) == 2 else shap_vals_full\n",
    "\n",
    "    shap_means = np.abs(shap_vals).mean(axis=0)\n",
    "    \n",
    "    importance_df = pd.DataFrame({\n",
    "        \"feature\": X.columns,\n",
    "        \"mean_abs_shap\": shap_means\n",
    "    })\n",
    "    importance_df[\"type\"] = importance_df[\"feature\"].map(feature_type_map).fillna(\"Other\")\n",
    "\n",
    "    grouped = importance_df.groupby(\"type\")[\"mean_abs_shap\"]\n",
    "    total_importance = grouped.sum()\n",
    "    average_importance = grouped.mean()\n",
    "\n",
    "    summary_by_type[model_name] = {\n",
    "        \"total\": total_importance.to_dict(),\n",
    "        \"average\": average_importance.to_dict()\n",
    "    }\n",
    "\n",
    "total_df = pd.DataFrame(index=unique_types, columns=models)\n",
    "average_df = pd.DataFrame(index=unique_types, columns=models)\n",
    "\n",
    "for model in models:\n",
    "    for t in unique_types:\n",
    "        total_df.loc[t, model] = summary_by_type[model][\"total\"].get(t, 0.0)\n",
    "        average_df.loc[t, model] = summary_by_type[model][\"average\"].get(t, 0.0)\n",
    "\n",
    "total_df = total_df.astype(float)\n",
    "average_df = average_df.astype(float)\n",
    "\n",
    "total_df.to_csv(\"../results/tables/shap/shap_total_importance_by_type.csv\", index_label=\"Feature_Type\")\n",
    "average_df.to_csv(\"../results/tables/shap/shap_average_importance_by_type.csv\", index_label=\"Feature_Type\")\n",
    "\n",
    "print(\"SHAP total and average importance by feature type saved.\")\n",
    "\n",
    "total_df_normalized = total_df.div(total_df.sum(axis=0), axis=1)\n",
    "\n",
    "average_df_normalized = average_df.div(average_df.sum(axis=0), axis=1)\n",
    "\n",
    "total_df_normalized.to_csv(\"../results/tables/shap/shap_total_importance_by_type_normalized.csv\", index_label=\"Feature_Type\")\n",
    "average_df_normalized.to_csv(\"../results/tables/shap/shap_average_importance_by_type_normalized.csv\", index_label=\"Feature_Type\")\n",
    "\n",
    "print(\"Normalized SHAP importance values saved.\")"
   ]
  }
 ],
 "metadata": {
  "kernelspec": {
   "display_name": "conda_venv",
   "language": "python",
   "name": "python3"
  },
  "language_info": {
   "codemirror_mode": {
    "name": "ipython",
    "version": 3
   },
   "file_extension": ".py",
   "mimetype": "text/x-python",
   "name": "python",
   "nbconvert_exporter": "python",
   "pygments_lexer": "ipython3",
   "version": "3.10.15"
  }
 },
 "nbformat": 4,
 "nbformat_minor": 2
}
