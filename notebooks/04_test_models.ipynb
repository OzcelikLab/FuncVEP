{
 "cells": [
  {
   "cell_type": "markdown",
   "metadata": {},
   "source": [
    "# Model Testing"
   ]
  },
  {
   "cell_type": "code",
   "execution_count": 1,
   "metadata": {},
   "outputs": [],
   "source": [
    "def test_on_clinical_dataset(\n",
    "    model_name,\n",
    "):\n",
    "    import pandas as pd\n",
    "    import joblib\n",
    "    import lightgbm as lgb\n",
    "    from sklearn.metrics import roc_auc_score, roc_curve, accuracy_score\n",
    "    import numpy as np\n",
    "    import os\n",
    "\n",
    "    model_dir = f\"../models/{model_name}\"\n",
    "    os.makedirs(model_dir, exist_ok=True)\n",
    "\n",
    "    trained_on = pd.read_csv(os.path.join(model_dir, \"training_variants.txt\"), sep=\"\\t\")\n",
    "    trained_features = pd.read_csv(os.path.join(model_dir, \"training_features.txt\"), sep=\"\\t\")[\"Feature\"].tolist()\n",
    "\n",
    "    lgb_model = joblib.load(os.path.join(model_dir, \"model.pkl\"))\n",
    "\n",
    "    data_path = \"../data/final/clinical_labels_model_input.txt\"\n",
    "    target_column = \"clinical_label\"\n",
    "\n",
    "    df_test = pd.read_csv(data_path, sep=\"\\t\")\n",
    "\n",
    "    df_test = df_test[~df_test[\"ID\"].isin(trained_on[\"ID\"])]\n",
    "\n",
    "    id_column = \"ID\"\n",
    "    df_test = df_test.dropna(subset=[target_column])\n",
    "\n",
    "    # Convert target labels\n",
    "    df_test[target_column] = df_test[target_column].replace({\"P\": 1, \"B\": 0})\n",
    "\n",
    "    df_test.columns = df_test.columns.str.replace(\" \", \"_\")\n",
    "\n",
    "    # Ensure only trained features are used\n",
    "    trained_features = lgb_model.feature_name_\n",
    "    feature_columns = df_test.columns.difference([id_column, target_column])\n",
    "\n",
    "    # Convert feature columns to numeric\n",
    "    df_test[feature_columns] = df_test[feature_columns].apply(pd.to_numeric, errors='coerce')\n",
    "\n",
    "    # Drop rows with missing target values\n",
    "    df_test = df_test.dropna(subset=[target_column])\n",
    "\n",
    "    # Select only features used in training\n",
    "    X_new = df_test[trained_features]\n",
    "    y_new = df_test[target_column]\n",
    "\n",
    "    # Get predicted probabilities\n",
    "    y_pred_proba_new = lgb_model.predict_proba(X_new)[:, 1]\n",
    "\n",
    "    # Calculate optimal cutoff\n",
    "    fpr, tpr, thresholds = roc_curve(y_new, y_pred_proba_new)\n",
    "    optimal_idx = np.argmax(tpr - fpr)  # Maximize (sensitivity - (1 - specificity))\n",
    "    optimal_cutoff = thresholds[optimal_idx]\n",
    "\n",
    "    # Apply optimal cutoff to get binary predictions\n",
    "    y_pred_new = (y_pred_proba_new >= optimal_cutoff).astype(int)\n",
    "\n",
    "    # Evaluate model performance\n",
    "    auc_score_new = roc_auc_score(y_new, y_pred_proba_new)\n",
    "    accuracy_new = accuracy_score(y_new, y_pred_new)\n",
    "\n",
    "    print(f\"AUC on testing data: {auc_score_new}\")\n",
    "    print(f\"Optimal Cutoff for Maximized Sensitivity and Specificity: {optimal_cutoff}\")\n",
    "    print(f\"Accuracy with optimal cutoff: {accuracy_new * 100:.2f}%\")\n",
    "\n",
    "    # Store predictions\n",
    "    df_test[model_name] = y_pred_proba_new\n",
    "    df_test = df_test[[\"ID\", target_column, model_name]]\n",
    "\n",
    "    result_dir = f\"../results/predictions/clinical\"\n",
    "    os.makedirs(result_dir, exist_ok=True)\n",
    "    df_test.to_csv(os.path.join(result_dir, f\"{model_name}.txt\"), sep=\"\\t\", index=False)\n"
   ]
  },
  {
   "cell_type": "code",
   "execution_count": 6,
   "metadata": {},
   "outputs": [],
   "source": [
    "def test_on_functional_dataset(model_name):\n",
    "    import pandas as pd\n",
    "    import joblib\n",
    "    import lightgbm as lgb\n",
    "    from sklearn.metrics import roc_auc_score, roc_curve, accuracy_score\n",
    "    import numpy as np\n",
    "    import os\n",
    "\n",
    "    model_dir = f\"../models/{model_name}\"\n",
    "    os.makedirs(model_dir, exist_ok=True)\n",
    "\n",
    "    trained_on = pd.read_csv(os.path.join(model_dir, \"training_variants.txt\"), sep=\"\\t\")\n",
    "    trained_features = pd.read_csv(os.path.join(model_dir, \"training_features.txt\"), sep=\"\\t\")[\"Feature\"].tolist()\n",
    "\n",
    "    lgb_model = joblib.load(os.path.join(model_dir, \"model.pkl\"))\n",
    "\n",
    "    df_test = pd.read_csv(\"../data/final/functional_labels_model_input.txt\", sep=\"\\t\")\n",
    "\n",
    "    df_test = df_test[df_test[\"weight\"] == 1]\n",
    "\n",
    "    df_test = df_test[~df_test[\"ID\"].isin(trained_on[\"ID\"])]\n",
    "\n",
    "    target_column = \"functional_label\"\n",
    "    id_column = \"ID\"\n",
    "    df_test = df_test.dropna(subset=[target_column])\n",
    "\n",
    "    # Convert target labels\n",
    "    df_test[target_column] = df_test[target_column].replace({\"PS3\": 1, \"BS3\": 0})\n",
    "\n",
    "    df_test.columns = df_test.columns.str.replace(\" \", \"_\")\n",
    "\n",
    "    # Ensure only trained features are used\n",
    "    trained_features = lgb_model.feature_name_\n",
    "    feature_columns = df_test.columns.difference([id_column, target_column])\n",
    "\n",
    "    # Convert feature columns to numeric\n",
    "    df_test[feature_columns] = df_test[feature_columns].apply(pd.to_numeric, errors='coerce')\n",
    "\n",
    "    # Drop rows with missing target values\n",
    "    df_test = df_test.dropna(subset=[target_column])\n",
    "\n",
    "    # Select only features used in training\n",
    "    X_new = df_test[trained_features]\n",
    "    y_new = df_test[target_column]\n",
    "\n",
    "    # Get predicted probabilities\n",
    "    y_pred_proba_new = lgb_model.predict_proba(X_new)[:, 1]\n",
    "\n",
    "    # Calculate optimal cutoff\n",
    "    fpr, tpr, thresholds = roc_curve(y_new, y_pred_proba_new)\n",
    "    optimal_idx = np.argmax(tpr - fpr)  # Maximize (sensitivity - (1 - specificity))\n",
    "    optimal_cutoff = thresholds[optimal_idx]\n",
    "\n",
    "    # Apply optimal cutoff to get binary predictions\n",
    "    y_pred_new = (y_pred_proba_new >= optimal_cutoff).astype(int)\n",
    "\n",
    "    # Evaluate model performance\n",
    "    auc_score_new = roc_auc_score(y_new, y_pred_proba_new)\n",
    "    accuracy_new = accuracy_score(y_new, y_pred_new)\n",
    "\n",
    "    print(f\"AUC on testing data: {auc_score_new}\")\n",
    "    print(f\"Optimal Cutoff for Maximized Sensitivity and Specificity: {optimal_cutoff}\")\n",
    "    print(f\"Accuracy with optimal cutoff: {accuracy_new * 100:.2f}%\")\n",
    "\n",
    "    # Store predictions\n",
    "    df_test[model_name] = y_pred_proba_new\n",
    "    df_test = df_test[[\"ID\", target_column, model_name]]\n",
    "\n",
    "    result_dir = f\"../results/predictions/functional\"\n",
    "    os.makedirs(result_dir, exist_ok=True)\n",
    "    df_test.to_csv(os.path.join(result_dir, f\"{model_name}.txt\"), sep=\"\\t\", index=False)\n"
   ]
  },
  {
   "cell_type": "markdown",
   "metadata": {},
   "source": [
    "### FuncVEP-CTI Testing on Clinical Data"
   ]
  },
  {
   "cell_type": "code",
   "execution_count": 3,
   "metadata": {},
   "outputs": [
    {
     "name": "stderr",
     "output_type": "stream",
     "text": [
      "/tmp/ipykernel_1275357/4160878242.py:30: FutureWarning: Downcasting behavior in `replace` is deprecated and will be removed in a future version. To retain the old behavior, explicitly call `result.infer_objects(copy=False)`. To opt-in to the future behavior, set `pd.set_option('future.no_silent_downcasting', True)`\n",
      "  df_test[target_column] = df_test[target_column].replace({\"P\": 1, \"B\": 0})\n"
     ]
    },
    {
     "name": "stdout",
     "output_type": "stream",
     "text": [
      "[LightGBM] [Warning] lambda_l2 is set=0.37559298253514883, reg_lambda=0.0 will be ignored. Current value: lambda_l2=0.37559298253514883\n",
      "[LightGBM] [Warning] lambda_l1 is set=0.238443622918479, reg_alpha=0.0 will be ignored. Current value: lambda_l1=0.238443622918479\n",
      "AUC on testing data: 0.9929964364441541\n",
      "Optimal Cutoff for Maximized Sensitivity and Specificity: 0.5215514558527333\n",
      "Accuracy with optimal cutoff: 96.64%\n"
     ]
    }
   ],
   "source": [
    "test_on_clinical_dataset(\"FuncVEP_CTI\")"
   ]
  },
  {
   "cell_type": "markdown",
   "metadata": {},
   "source": [
    "### FuncVEP-CTE Testing on Clinical Data"
   ]
  },
  {
   "cell_type": "code",
   "execution_count": 4,
   "metadata": {},
   "outputs": [
    {
     "name": "stderr",
     "output_type": "stream",
     "text": [
      "/tmp/ipykernel_1275357/4160878242.py:30: FutureWarning: Downcasting behavior in `replace` is deprecated and will be removed in a future version. To retain the old behavior, explicitly call `result.infer_objects(copy=False)`. To opt-in to the future behavior, set `pd.set_option('future.no_silent_downcasting', True)`\n",
      "  df_test[target_column] = df_test[target_column].replace({\"P\": 1, \"B\": 0})\n"
     ]
    },
    {
     "name": "stdout",
     "output_type": "stream",
     "text": [
      "[LightGBM] [Warning] lambda_l2 is set=1.5510651945407645, reg_lambda=0.0 will be ignored. Current value: lambda_l2=1.5510651945407645\n",
      "[LightGBM] [Warning] lambda_l1 is set=0.2524023031814272, reg_alpha=0.0 will be ignored. Current value: lambda_l1=0.2524023031814272\n",
      "AUC on testing data: 0.9719892955414221\n",
      "Optimal Cutoff for Maximized Sensitivity and Specificity: 0.6024811404090825\n",
      "Accuracy with optimal cutoff: 92.11%\n"
     ]
    }
   ],
   "source": [
    "test_on_clinical_dataset(\"FuncVEP_CTE\")"
   ]
  },
  {
   "cell_type": "markdown",
   "metadata": {},
   "source": [
    "### FuncVEP-SP Testing on Clinical Data"
   ]
  },
  {
   "cell_type": "code",
   "execution_count": 5,
   "metadata": {},
   "outputs": [
    {
     "name": "stderr",
     "output_type": "stream",
     "text": [
      "/tmp/ipykernel_1275357/4160878242.py:30: FutureWarning: Downcasting behavior in `replace` is deprecated and will be removed in a future version. To retain the old behavior, explicitly call `result.infer_objects(copy=False)`. To opt-in to the future behavior, set `pd.set_option('future.no_silent_downcasting', True)`\n",
      "  df_test[target_column] = df_test[target_column].replace({\"P\": 1, \"B\": 0})\n"
     ]
    },
    {
     "name": "stdout",
     "output_type": "stream",
     "text": [
      "[LightGBM] [Warning] lambda_l2 is set=0.12803049563792476, reg_lambda=0.0 will be ignored. Current value: lambda_l2=0.12803049563792476\n",
      "[LightGBM] [Warning] lambda_l1 is set=3.334896215675436, reg_alpha=0.0 will be ignored. Current value: lambda_l1=3.334896215675436\n",
      "AUC on testing data: 0.9476421931736309\n",
      "Optimal Cutoff for Maximized Sensitivity and Specificity: 0.5835815336239117\n",
      "Accuracy with optimal cutoff: 88.10%\n"
     ]
    }
   ],
   "source": [
    "test_on_clinical_dataset(\"FuncVEP_SP\")"
   ]
  },
  {
   "cell_type": "markdown",
   "metadata": {},
   "source": [
    "### ClinVEP-CTI Testing on Functional Data"
   ]
  },
  {
   "cell_type": "code",
   "execution_count": 7,
   "metadata": {},
   "outputs": [
    {
     "name": "stderr",
     "output_type": "stream",
     "text": [
      "/tmp/ipykernel_1275357/1088305226.py:28: FutureWarning: Downcasting behavior in `replace` is deprecated and will be removed in a future version. To retain the old behavior, explicitly call `result.infer_objects(copy=False)`. To opt-in to the future behavior, set `pd.set_option('future.no_silent_downcasting', True)`\n",
      "  df_test[target_column] = df_test[target_column].replace({\"PS3\": 1, \"BS3\": 0})\n"
     ]
    },
    {
     "name": "stdout",
     "output_type": "stream",
     "text": [
      "[LightGBM] [Warning] lambda_l2 is set=0.236862458301577, reg_lambda=0.0 will be ignored. Current value: lambda_l2=0.236862458301577\n",
      "[LightGBM] [Warning] lambda_l1 is set=0.8967537242330742, reg_alpha=0.0 will be ignored. Current value: lambda_l1=0.8967537242330742\n",
      "AUC on testing data: 0.9117513505588414\n",
      "Optimal Cutoff for Maximized Sensitivity and Specificity: 0.9838078962063843\n",
      "Accuracy with optimal cutoff: 84.27%\n"
     ]
    }
   ],
   "source": [
    "test_on_functional_dataset(\"ClinVEP_CTI\")"
   ]
  },
  {
   "cell_type": "markdown",
   "metadata": {},
   "source": [
    "### ClinVEP-CTE Testing on Functional Data"
   ]
  },
  {
   "cell_type": "code",
   "execution_count": 8,
   "metadata": {},
   "outputs": [
    {
     "name": "stderr",
     "output_type": "stream",
     "text": [
      "/tmp/ipykernel_1275357/1088305226.py:28: FutureWarning: Downcasting behavior in `replace` is deprecated and will be removed in a future version. To retain the old behavior, explicitly call `result.infer_objects(copy=False)`. To opt-in to the future behavior, set `pd.set_option('future.no_silent_downcasting', True)`\n",
      "  df_test[target_column] = df_test[target_column].replace({\"PS3\": 1, \"BS3\": 0})\n"
     ]
    },
    {
     "name": "stdout",
     "output_type": "stream",
     "text": [
      "[LightGBM] [Warning] lambda_l2 is set=0.35846533926833224, reg_lambda=0.0 will be ignored. Current value: lambda_l2=0.35846533926833224\n",
      "[LightGBM] [Warning] lambda_l1 is set=0.191547403109407, reg_alpha=0.0 will be ignored. Current value: lambda_l1=0.191547403109407\n",
      "AUC on testing data: 0.8487754130408951\n",
      "Optimal Cutoff for Maximized Sensitivity and Specificity: 0.7691221471629278\n",
      "Accuracy with optimal cutoff: 82.03%\n"
     ]
    }
   ],
   "source": [
    "test_on_functional_dataset(\"ClinVEP_CTE\")"
   ]
  },
  {
   "cell_type": "markdown",
   "metadata": {},
   "source": [
    "### ClinVEP-SP Testing on Functional Data"
   ]
  },
  {
   "cell_type": "code",
   "execution_count": 10,
   "metadata": {},
   "outputs": [
    {
     "name": "stderr",
     "output_type": "stream",
     "text": [
      "/tmp/ipykernel_1275357/1088305226.py:28: FutureWarning: Downcasting behavior in `replace` is deprecated and will be removed in a future version. To retain the old behavior, explicitly call `result.infer_objects(copy=False)`. To opt-in to the future behavior, set `pd.set_option('future.no_silent_downcasting', True)`\n",
      "  df_test[target_column] = df_test[target_column].replace({\"PS3\": 1, \"BS3\": 0})\n"
     ]
    },
    {
     "name": "stdout",
     "output_type": "stream",
     "text": [
      "[LightGBM] [Warning] lambda_l2 is set=1.435520664176403, reg_lambda=0.0 will be ignored. Current value: lambda_l2=1.435520664176403\n",
      "[LightGBM] [Warning] lambda_l1 is set=1.517811099119233, reg_alpha=0.0 will be ignored. Current value: lambda_l1=1.517811099119233\n",
      "AUC on testing data: 0.8613656675279157\n",
      "Optimal Cutoff for Maximized Sensitivity and Specificity: 0.5638242534176116\n",
      "Accuracy with optimal cutoff: 82.02%\n"
     ]
    }
   ],
   "source": [
    "test_on_functional_dataset(\"ClinVEP_SP\")"
   ]
  },
  {
   "cell_type": "code",
   "execution_count": null,
   "metadata": {},
   "outputs": [],
   "source": []
  }
 ],
 "metadata": {
  "kernelspec": {
   "display_name": "ml_env",
   "language": "python",
   "name": "python3"
  },
  "language_info": {
   "codemirror_mode": {
    "name": "ipython",
    "version": 3
   },
   "file_extension": ".py",
   "mimetype": "text/x-python",
   "name": "python",
   "nbconvert_exporter": "python",
   "pygments_lexer": "ipython3",
   "version": "3.9.21"
  }
 },
 "nbformat": 4,
 "nbformat_minor": 2
}
